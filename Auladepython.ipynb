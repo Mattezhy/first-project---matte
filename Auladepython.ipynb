    {
      "cell_type": "code",
      "source": [
        "import pandas as pd\n",
        "\n",
        "dados = {\n",
        "  'marca':['dell', 'HP', 'Lenovo', 'Apple'],\n",
        "  'modelo':['Inspiron 15', 'Pavillion', 'Thinkpad', 'Macbook Air'],\n",
        "  'Armazenamento (GB)':[500, 700, 950, 870],\n",
        "  'RAM (GB)':[350, 500, 450, 550]\n",
        "}\n",
        "\n",
        "df = pd.DataFrame(dados)\n",
        "df['Quantidade'] = [10, 18, 57, 25]\n",
        "\n",
        "df"
      ],
      "metadata": {
        "id": "W8f-EPtmce5l"
      },
      "execution_count": null,
      "outputs": []
    },
    {
      "cell_type": "code",
      "source": [
        "import pandas as pd\n",
        "\n",
        "dados = {\n",
        "  'marca':['dell', 'HP', 'Lenovo', 'Apple'],\n",
        "  'modelo':['Inspiron 15', 'Pavillion', 'Thinkpad', 'Macbook Air'],\n",
        "  'Armazenamento (GB)':[500, 700, 950, 870],\n",
        "  'RAM (GB)':[350, 500, 450, 550]\n",
        "}\n",
        "\n",
        "df = pd.DataFrame(dados)\n",
        "df['Quantidade'] = [10, 18, 57, 25]\n",
        "\n",
        "df"
      ],
      "metadata": {
        "id": "uAkvMJSBcYcz"
      },
      "execution_count": null,
      "outputs": []
    }
  ],
  "metadata": {
    "colab": {
      "name": "Conheça o Colab",
      "toc_visible": true,
      "provenance": [],
      "include_colab_link": true
    },
    "kernelspec": {
      "display_name": "Python 3",
      "name": "python3"
    }
  },
  "nbformat": 4,
  "nbformat_minor": 0
}
